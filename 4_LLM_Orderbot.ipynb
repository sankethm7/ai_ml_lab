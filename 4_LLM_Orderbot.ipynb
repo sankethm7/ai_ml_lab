{
  "nbformat": 4,
  "nbformat_minor": 0,
  "metadata": {
    "colab": {
      "provenance": [],
      "authorship_tag": "ABX9TyM16/rcaDeLDENMOr4cf3da",
      "include_colab_link": true
    },
    "kernelspec": {
      "name": "python3",
      "display_name": "Python 3"
    },
    "language_info": {
      "name": "python"
    }
  },
  "cells": [
    {
      "cell_type": "markdown",
      "metadata": {
        "id": "view-in-github",
        "colab_type": "text"
      },
      "source": [
        "<a href=\"https://colab.research.google.com/github/sankethm7/ai_ml_lab/blob/main/4_LLM_Orderbot.ipynb\" target=\"_parent\"><img src=\"https://colab.research.google.com/assets/colab-badge.svg\" alt=\"Open In Colab\"/></a>"
      ]
    },
    {
      "cell_type": "code",
      "execution_count": null,
      "metadata": {
        "id": "aE9TiXOlLXIX"
      },
      "outputs": [],
      "source": []
    },
    {
      "cell_type": "code",
      "source": [
        "!pip install openai==0.28\n",
        "\n",
        "import os\n",
        "import openai"
      ],
      "metadata": {
        "id": "mAXj-TguNDqW"
      },
      "execution_count": null,
      "outputs": []
    }
  ]
}